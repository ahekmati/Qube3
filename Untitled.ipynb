{
 "cells": [
  {
   "cell_type": "code",
   "execution_count": null,
   "id": "098938ce-1b1d-4d51-852e-751a1faac9e1",
   "metadata": {},
   "outputs": [],
   "source": []
  }
 ],
 "metadata": {
  "kernelspec": {
   "display_name": "",
   "name": ""
  },
  "language_info": {
   "name": ""
  }
 },
 "nbformat": 4,
 "nbformat_minor": 5
}
