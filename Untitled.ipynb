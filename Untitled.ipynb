{
 "cells": [
  {
   "cell_type": "code",
   "execution_count": 4,
   "id": "9a264b12-2e47-4af4-8eee-5a4ba21153a7",
   "metadata": {},
   "outputs": [
    {
     "ename": "SyntaxError",
     "evalue": "invalid syntax (135666795.py, line 6)",
     "output_type": "error",
     "traceback": [
      "  \u001b[36mCell\u001b[39m\u001b[36m \u001b[39m\u001b[32mIn[4]\u001b[39m\u001b[32m, line 6\u001b[39m\n\u001b[31m    \u001b[39m\u001b[31mreturn np.import numpy as np\u001b[39m\n              ^\n\u001b[31mSyntaxError\u001b[39m\u001b[31m:\u001b[39m invalid syntax\n"
     ]
    }
   ],
   "source": [
    "import numpy as np\n",
    "import matplotlib.pyplot as plt\n",
    "\n",
    "# Define the function\n",
    "def f(x):\n",
    "    return np.import numpy as np\n",
    "\n",
    "    x = (np.exp(4) - 2) / 5\n",
    "\n",
    "print(\"x =\", x)\n",
    "\n",
    "\n",
    "# x must be greater than -0.4 so that the argument of log is positive\n",
    "x = np.linspace(-0.39, 4, 400)\n",
    "y = f(x)\n",
    "\n",
    "plt.figure(figsize=(8, 4))\n",
    "plt.plot(x, y, label=r'$f(x)=\\ln(5x+2)$')\n",
    "plt.axhline(0, color='black', lw=0.8)\n",
    "plt.axvline(0, color='black', lw=0.8)\n",
    "plt.xlabel('x')\n",
    "plt.ylabel('y')\n",
    "plt.title('Graph of $f(x) = \\ln(5x+2)$')\n",
    "plt.legend()\n",
    "plt.grid(True)\n",
    "plt.show()\n",
    "\n"
   ]
  },
  {
   "cell_type": "code",
   "execution_count": 2,
   "id": "e21278e9-5f97-4743-bb1a-ff058d6e2ce2",
   "metadata": {},
   "outputs": [
    {
     "name": "stdout",
     "output_type": "stream",
     "text": [
      "x = 10.519630006628848\n"
     ]
    }
   ],
   "source": [
    "import numpy as np\n",
    "\n",
    "x = (np.exp(4) - 2) / 5\n",
    "\n",
    "print(\"x =\", x)\n"
   ]
  },
  {
   "cell_type": "code",
   "execution_count": null,
   "id": "3cb7b27c-5a87-4463-800d-d19e4c33c34a",
   "metadata": {},
   "outputs": [],
   "source": []
  }
 ],
 "metadata": {
  "kernelspec": {
   "display_name": "Python 3 (ipykernel)",
   "language": "python",
   "name": "python3"
  },
  "language_info": {
   "codemirror_mode": {
    "name": "ipython",
    "version": 3
   },
   "file_extension": ".py",
   "mimetype": "text/x-python",
   "name": "python",
   "nbconvert_exporter": "python",
   "pygments_lexer": "ipython3",
   "version": "3.12.3"
  }
 },
 "nbformat": 4,
 "nbformat_minor": 5
}
