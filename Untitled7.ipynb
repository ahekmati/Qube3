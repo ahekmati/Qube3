{
 "cells": [
  {
   "cell_type": "code",
   "execution_count": null,
   "id": "5a0254e4-51be-4917-953a-4619ae4cea04",
   "metadata": {},
   "outputs": [],
   "source": []
  }
 ],
 "metadata": {
  "kernelspec": {
   "display_name": "",
   "name": ""
  },
  "language_info": {
   "name": ""
  }
 },
 "nbformat": 4,
 "nbformat_minor": 5
}
