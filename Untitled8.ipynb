{
 "cells": [
  {
   "cell_type": "code",
   "execution_count": 1,
   "id": "8849ac5e-dfe7-4793-b82d-2ba0da001af2",
   "metadata": {},
   "outputs": [
    {
     "ename": "ValueError",
     "evalue": "Invalid property specified for object of type plotly.graph_objs.layout.Annotation: 'z'\n\nDid you mean \"x\"?\n\n    Valid properties:\n        align\n            Sets the horizontal alignment of the `text` within the\n            box. Has an effect only if `text` spans two or more\n            lines (i.e. `text` contains one or more <br> HTML tags)\n            or if an explicit width is set to override the text\n            width.\n        arrowcolor\n            Sets the color of the annotation arrow.\n        arrowhead\n            Sets the end annotation arrow head style.\n        arrowside\n            Sets the annotation arrow head position.\n        arrowsize\n            Sets the size of the end annotation arrow head,\n            relative to `arrowwidth`. A value of 1 (default) gives\n            a head about 3x as wide as the line.\n        arrowwidth\n            Sets the width (in px) of annotation arrow line.\n        ax\n            Sets the x component of the arrow tail about the arrow\n            head. If `axref` is `pixel`, a positive (negative)\n            component corresponds to an arrow pointing from right\n            to left (left to right). If `axref` is not `pixel` and\n            is exactly the same as `xref`, this is an absolute\n            value on that axis, like `x`, specified in the same\n            coordinates as `xref`.\n        axref\n            Indicates in what coordinates the tail of the\n            annotation (ax,ay) is specified. If set to a x axis id\n            (e.g. \"x\" or \"x2\"), the `x` position refers to a x\n            coordinate. If set to \"paper\", the `x` position refers\n            to the distance from the left of the plotting area in\n            normalized coordinates where 0 (1) corresponds to the\n            left (right). If set to a x axis ID followed by\n            \"domain\" (separated by a space), the position behaves\n            like for \"paper\", but refers to the distance in\n            fractions of the domain length from the left of the\n            domain of that axis: e.g., *x2 domain* refers to the\n            domain of the second x  axis and a x position of 0.5\n            refers to the point between the left and the right of\n            the domain of the second x axis. In order for absolute\n            positioning of the arrow to work, \"axref\" must be\n            exactly the same as \"xref\", otherwise \"axref\" will\n            revert to \"pixel\" (explained next). For relative\n            positioning, \"axref\" can be set to \"pixel\", in which\n            case the \"ax\" value is specified in pixels relative to\n            \"x\". Absolute positioning is useful for trendline\n            annotations which should continue to indicate the\n            correct trend when zoomed. Relative positioning is\n            useful for specifying the text offset for an annotated\n            point.\n        ay\n            Sets the y component of the arrow tail about the arrow\n            head. If `ayref` is `pixel`, a positive (negative)\n            component corresponds to an arrow pointing from bottom\n            to top (top to bottom). If `ayref` is not `pixel` and\n            is exactly the same as `yref`, this is an absolute\n            value on that axis, like `y`, specified in the same\n            coordinates as `yref`.\n        ayref\n            Indicates in what coordinates the tail of the\n            annotation (ax,ay) is specified. If set to a y axis id\n            (e.g. \"y\" or \"y2\"), the `y` position refers to a y\n            coordinate. If set to \"paper\", the `y` position refers\n            to the distance from the bottom of the plotting area in\n            normalized coordinates where 0 (1) corresponds to the\n            bottom (top). If set to a y axis ID followed by\n            \"domain\" (separated by a space), the position behaves\n            like for \"paper\", but refers to the distance in\n            fractions of the domain length from the bottom of the\n            domain of that axis: e.g., *y2 domain* refers to the\n            domain of the second y  axis and a y position of 0.5\n            refers to the point between the bottom and the top of\n            the domain of the second y axis. In order for absolute\n            positioning of the arrow to work, \"ayref\" must be\n            exactly the same as \"yref\", otherwise \"ayref\" will\n            revert to \"pixel\" (explained next). For relative\n            positioning, \"ayref\" can be set to \"pixel\", in which\n            case the \"ay\" value is specified in pixels relative to\n            \"y\". Absolute positioning is useful for trendline\n            annotations which should continue to indicate the\n            correct trend when zoomed. Relative positioning is\n            useful for specifying the text offset for an annotated\n            point.\n        bgcolor\n            Sets the background color of the annotation.\n        bordercolor\n            Sets the color of the border enclosing the annotation\n            `text`.\n        borderpad\n            Sets the padding (in px) between the `text` and the\n            enclosing border.\n        borderwidth\n            Sets the width (in px) of the border enclosing the\n            annotation `text`.\n        captureevents\n            Determines whether the annotation text box captures\n            mouse move and click events, or allows those events to\n            pass through to data points in the plot that may be\n            behind the annotation. By default `captureevents` is\n            False unless `hovertext` is provided. If you use the\n            event `plotly_clickannotation` without `hovertext` you\n            must explicitly enable `captureevents`.\n        clicktoshow\n            Makes this annotation respond to clicks on the plot. If\n            you click a data point that exactly matches the `x` and\n            `y` values of this annotation, and it is hidden\n            (visible: false), it will appear. In \"onoff\" mode, you\n            must click the same point again to make it disappear,\n            so if you click multiple points, you can show multiple\n            annotations. In \"onout\" mode, a click anywhere else in\n            the plot (on another data point or not) will hide this\n            annotation. If you need to show/hide this annotation in\n            response to different `x` or `y` values, you can set\n            `xclick` and/or `yclick`. This is useful for example to\n            label the side of a bar. To label markers though,\n            `standoff` is preferred over `xclick` and `yclick`.\n        font\n            Sets the annotation text font.\n        height\n            Sets an explicit height for the text box. null\n            (default) lets the text set the box height. Taller text\n            will be clipped.\n        hoverlabel\n            :class:`plotly.graph_objects.layout.annotation.Hoverlab\n            el` instance or dict with compatible properties\n        hovertext\n            Sets text to appear when hovering over this annotation.\n            If omitted or blank, no hover label will appear.\n        name\n            When used in a template, named items are created in the\n            output figure in addition to any items the figure\n            already has in this array. You can modify these items\n            in the output figure by making your own item with\n            `templateitemname` matching this `name` alongside your\n            modifications (including `visible: false` or `enabled:\n            false` to hide it). Has no effect outside of a\n            template.\n        opacity\n            Sets the opacity of the annotation (text + arrow).\n        showarrow\n            Determines whether or not the annotation is drawn with\n            an arrow. If True, `text` is placed near the arrow's\n            tail. If False, `text` lines up with the `x` and `y`\n            provided.\n        standoff\n            Sets a distance, in pixels, to move the end arrowhead\n            away from the position it is pointing at, for example\n            to point at the edge of a marker independent of zoom.\n            Note that this shortens the arrow from the `ax` / `ay`\n            vector, in contrast to `xshift` / `yshift` which moves\n            everything by this amount.\n        startarrowhead\n            Sets the start annotation arrow head style.\n        startarrowsize\n            Sets the size of the start annotation arrow head,\n            relative to `arrowwidth`. A value of 1 (default) gives\n            a head about 3x as wide as the line.\n        startstandoff\n            Sets a distance, in pixels, to move the start arrowhead\n            away from the position it is pointing at, for example\n            to point at the edge of a marker independent of zoom.\n            Note that this shortens the arrow from the `ax` / `ay`\n            vector, in contrast to `xshift` / `yshift` which moves\n            everything by this amount.\n        templateitemname\n            Used to refer to a named item in this array in the\n            template. Named items from the template will be created\n            even without a matching item in the input figure, but\n            you can modify one by making an item with\n            `templateitemname` matching its `name`, alongside your\n            modifications (including `visible: false` or `enabled:\n            false` to hide it). If there is no template or no\n            matching item, this item will be hidden unless you\n            explicitly show it with `visible: true`.\n        text\n            Sets the text associated with this annotation. Plotly\n            uses a subset of HTML tags to do things like newline\n            (`<br>`), bold (`<b></b>`), italics (`<i></i>`),\n            hyperlinks (`<a href='...'></a>`). Tags `<em>`,\n            `<sup>`, `<sub>`, `<s>`, `<u>`, and `<span>` are also\n            supported.\n        textangle\n            Sets the angle at which the `text` is drawn with\n            respect to the horizontal.\n        valign\n            Sets the vertical alignment of the `text` within the\n            box. Has an effect only if an explicit height is set to\n            override the text height.\n        visible\n            Determines whether or not this annotation is visible.\n        width\n            Sets an explicit width for the text box. null (default)\n            lets the text set the box width. Wider text will be\n            clipped. There is no automatic wrapping; use <br> to\n            start a new line.\n        x\n            Sets the annotation's x position. If the axis `type` is\n            \"log\", then you must take the log of your desired\n            range. If the axis `type` is \"date\", it should be date\n            strings, like date data, though Date objects and unix\n            milliseconds will be accepted and converted to strings.\n            If the axis `type` is \"category\", it should be numbers,\n            using the scale where each category is assigned a\n            serial number from zero in the order it appears.\n        xanchor\n            Sets the text box's horizontal position anchor This\n            anchor binds the `x` position to the \"left\", \"center\"\n            or \"right\" of the annotation. For example, if `x` is\n            set to 1, `xref` to \"paper\" and `xanchor` to \"right\"\n            then the right-most portion of the annotation lines up\n            with the right-most edge of the plotting area. If\n            \"auto\", the anchor is equivalent to \"center\" for data-\n            referenced annotations or if there is an arrow, whereas\n            for paper-referenced with no arrow, the anchor picked\n            corresponds to the closest side.\n        xclick\n            Toggle this annotation when clicking a data point whose\n            `x` value is `xclick` rather than the annotation's `x`\n            value.\n        xref\n            Sets the annotation's x coordinate axis. If set to a x\n            axis id (e.g. \"x\" or \"x2\"), the `x` position refers to\n            a x coordinate. If set to \"paper\", the `x` position\n            refers to the distance from the left of the plotting\n            area in normalized coordinates where 0 (1) corresponds\n            to the left (right). If set to a x axis ID followed by\n            \"domain\" (separated by a space), the position behaves\n            like for \"paper\", but refers to the distance in\n            fractions of the domain length from the left of the\n            domain of that axis: e.g., *x2 domain* refers to the\n            domain of the second x  axis and a x position of 0.5\n            refers to the point between the left and the right of\n            the domain of the second x axis.\n        xshift\n            Shifts the position of the whole annotation and arrow\n            to the right (positive) or left (negative) by this many\n            pixels.\n        y\n            Sets the annotation's y position. If the axis `type` is\n            \"log\", then you must take the log of your desired\n            range. If the axis `type` is \"date\", it should be date\n            strings, like date data, though Date objects and unix\n            milliseconds will be accepted and converted to strings.\n            If the axis `type` is \"category\", it should be numbers,\n            using the scale where each category is assigned a\n            serial number from zero in the order it appears.\n        yanchor\n            Sets the text box's vertical position anchor This\n            anchor binds the `y` position to the \"top\", \"middle\" or\n            \"bottom\" of the annotation. For example, if `y` is set\n            to 1, `yref` to \"paper\" and `yanchor` to \"top\" then the\n            top-most portion of the annotation lines up with the\n            top-most edge of the plotting area. If \"auto\", the\n            anchor is equivalent to \"middle\" for data-referenced\n            annotations or if there is an arrow, whereas for paper-\n            referenced with no arrow, the anchor picked corresponds\n            to the closest side.\n        yclick\n            Toggle this annotation when clicking a data point whose\n            `y` value is `yclick` rather than the annotation's `y`\n            value.\n        yref\n            Sets the annotation's y coordinate axis. If set to a y\n            axis id (e.g. \"y\" or \"y2\"), the `y` position refers to\n            a y coordinate. If set to \"paper\", the `y` position\n            refers to the distance from the bottom of the plotting\n            area in normalized coordinates where 0 (1) corresponds\n            to the bottom (top). If set to a y axis ID followed by\n            \"domain\" (separated by a space), the position behaves\n            like for \"paper\", but refers to the distance in\n            fractions of the domain length from the bottom of the\n            domain of that axis: e.g., *y2 domain* refers to the\n            domain of the second y  axis and a y position of 0.5\n            refers to the point between the bottom and the top of\n            the domain of the second y axis.\n        yshift\n            Shifts the position of the whole annotation and arrow\n            up (positive) or down (negative) by this many pixels.\n        \nDid you mean \"x\"?\n\nBad property path:\nz\n^",
     "output_type": "error",
     "traceback": [
      "\u001b[31m---------------------------------------------------------------------------\u001b[39m",
      "\u001b[31mValueError\u001b[39m                                Traceback (most recent call last)",
      "\u001b[36mCell\u001b[39m\u001b[36m \u001b[39m\u001b[32mIn[1]\u001b[39m\u001b[32m, line 73\u001b[39m\n\u001b[32m     66\u001b[39m annotations = [\n\u001b[32m     67\u001b[39m     \u001b[38;5;28mdict\u001b[39m(x=v1[\u001b[32m0\u001b[39m], y=v1[\u001b[32m1\u001b[39m], z=v1[\u001b[32m2\u001b[39m], text=\u001b[33m\"\u001b[39m\u001b[33mv1\u001b[39m\u001b[33m\"\u001b[39m, showarrow=\u001b[38;5;28;01mTrue\u001b[39;00m, arrowhead=\u001b[32m2\u001b[39m, ax=\u001b[32m20\u001b[39m, ay=-\u001b[32m30\u001b[39m),\n\u001b[32m     68\u001b[39m     \u001b[38;5;28mdict\u001b[39m(x=v2[\u001b[32m0\u001b[39m], y=v2[\u001b[32m1\u001b[39m], z=v2[\u001b[32m2\u001b[39m], text=\u001b[33m\"\u001b[39m\u001b[33mv2\u001b[39m\u001b[33m\"\u001b[39m, showarrow=\u001b[38;5;28;01mTrue\u001b[39;00m, arrowhead=\u001b[32m2\u001b[39m, ax=\u001b[32m20\u001b[39m, ay=-\u001b[32m30\u001b[39m),\n\u001b[32m     69\u001b[39m     \u001b[38;5;28mdict\u001b[39m(x=v3[\u001b[32m0\u001b[39m], y=v3[\u001b[32m1\u001b[39m], z=v3[\u001b[32m2\u001b[39m], text=\u001b[33m\"\u001b[39m\u001b[33mv3\u001b[39m\u001b[33m\"\u001b[39m, showarrow=\u001b[38;5;28;01mTrue\u001b[39;00m, arrowhead=\u001b[32m2\u001b[39m, ax=\u001b[32m20\u001b[39m, ay=-\u001b[32m30\u001b[39m)\n\u001b[32m     70\u001b[39m ]\n\u001b[32m     72\u001b[39m \u001b[38;5;66;03m# Update layout\u001b[39;00m\n\u001b[32m---> \u001b[39m\u001b[32m73\u001b[39m \u001b[43mfig\u001b[49m\u001b[43m.\u001b[49m\u001b[43mupdate_layout\u001b[49m\u001b[43m(\u001b[49m\n\u001b[32m     74\u001b[39m \u001b[43m    \u001b[49m\u001b[43mtitle\u001b[49m\u001b[43m=\u001b[49m\u001b[33;43m\"\u001b[39;49m\u001b[33;43mPlane Spanned by v₁ and v₂ (v₃ Lies in Same Plane)\u001b[39;49m\u001b[33;43m\"\u001b[39;49m\u001b[43m,\u001b[49m\n\u001b[32m     75\u001b[39m \u001b[43m    \u001b[49m\u001b[43mscene\u001b[49m\u001b[43m=\u001b[49m\u001b[38;5;28;43mdict\u001b[39;49m\u001b[43m(\u001b[49m\n\u001b[32m     76\u001b[39m \u001b[43m        \u001b[49m\u001b[43mxaxis_title\u001b[49m\u001b[43m=\u001b[49m\u001b[33;43m'\u001b[39;49m\u001b[33;43mX\u001b[39;49m\u001b[33;43m'\u001b[39;49m\u001b[43m,\u001b[49m\n\u001b[32m     77\u001b[39m \u001b[43m        \u001b[49m\u001b[43myaxis_title\u001b[49m\u001b[43m=\u001b[49m\u001b[33;43m'\u001b[39;49m\u001b[33;43mY\u001b[39;49m\u001b[33;43m'\u001b[39;49m\u001b[43m,\u001b[49m\n\u001b[32m     78\u001b[39m \u001b[43m        \u001b[49m\u001b[43mzaxis_title\u001b[49m\u001b[43m=\u001b[49m\u001b[33;43m'\u001b[39;49m\u001b[33;43mZ\u001b[39;49m\u001b[33;43m'\u001b[39;49m\u001b[43m,\u001b[49m\n\u001b[32m     79\u001b[39m \u001b[43m        \u001b[49m\u001b[43maspectmode\u001b[49m\u001b[43m=\u001b[49m\u001b[33;43m'\u001b[39;49m\u001b[33;43mcube\u001b[39;49m\u001b[33;43m'\u001b[39;49m\n\u001b[32m     80\u001b[39m \u001b[43m    \u001b[49m\u001b[43m)\u001b[49m\u001b[43m,\u001b[49m\n\u001b[32m     81\u001b[39m \u001b[43m    \u001b[49m\u001b[43mwidth\u001b[49m\u001b[43m=\u001b[49m\u001b[32;43m850\u001b[39;49m\u001b[43m,\u001b[49m\n\u001b[32m     82\u001b[39m \u001b[43m    \u001b[49m\u001b[43mheight\u001b[49m\u001b[43m=\u001b[49m\u001b[32;43m750\u001b[39;49m\u001b[43m,\u001b[49m\n\u001b[32m     83\u001b[39m \u001b[43m    \u001b[49m\u001b[43mannotations\u001b[49m\u001b[43m=\u001b[49m\u001b[43mannotations\u001b[49m\n\u001b[32m     84\u001b[39m \u001b[43m)\u001b[49m\n\u001b[32m     86\u001b[39m fig.show()\n",
      "\u001b[36mFile \u001b[39m\u001b[32m~/Qube3/.venv/lib/python3.12/site-packages/plotly/graph_objs/_figure.py:218\u001b[39m, in \u001b[36mFigure.update_layout\u001b[39m\u001b[34m(self, dict1, overwrite, **kwargs)\u001b[39m\n\u001b[32m    192\u001b[39m \u001b[38;5;28;01mdef\u001b[39;00m\u001b[38;5;250m \u001b[39m\u001b[34mupdate_layout\u001b[39m(\u001b[38;5;28mself\u001b[39m, dict1=\u001b[38;5;28;01mNone\u001b[39;00m, overwrite=\u001b[38;5;28;01mFalse\u001b[39;00m, **kwargs) -> \u001b[33m\"\u001b[39m\u001b[33mFigure\u001b[39m\u001b[33m\"\u001b[39m:\n\u001b[32m    193\u001b[39m \u001b[38;5;250m    \u001b[39m\u001b[33;03m\"\"\"\u001b[39;00m\n\u001b[32m    194\u001b[39m \n\u001b[32m    195\u001b[39m \u001b[33;03m    Update the properties of the figure's layout with a dict and/or with\u001b[39;00m\n\u001b[32m   (...)\u001b[39m\u001b[32m    216\u001b[39m \n\u001b[32m    217\u001b[39m \u001b[33;03m    \"\"\"\u001b[39;00m\n\u001b[32m--> \u001b[39m\u001b[32m218\u001b[39m     \u001b[38;5;28;01mreturn\u001b[39;00m \u001b[38;5;28;43msuper\u001b[39;49m\u001b[43m(\u001b[49m\u001b[43m)\u001b[49m\u001b[43m.\u001b[49m\u001b[43mupdate_layout\u001b[49m\u001b[43m(\u001b[49m\u001b[43mdict1\u001b[49m\u001b[43m,\u001b[49m\u001b[43m \u001b[49m\u001b[43moverwrite\u001b[49m\u001b[43m,\u001b[49m\u001b[43m \u001b[49m\u001b[43m*\u001b[49m\u001b[43m*\u001b[49m\u001b[43mkwargs\u001b[49m\u001b[43m)\u001b[49m\n",
      "\u001b[36mFile \u001b[39m\u001b[32m~/Qube3/.venv/lib/python3.12/site-packages/plotly/basedatatypes.py:1415\u001b[39m, in \u001b[36mBaseFigure.update_layout\u001b[39m\u001b[34m(self, dict1, overwrite, **kwargs)\u001b[39m\n\u001b[32m   1391\u001b[39m \u001b[38;5;28;01mdef\u001b[39;00m\u001b[38;5;250m \u001b[39m\u001b[34mupdate_layout\u001b[39m(\u001b[38;5;28mself\u001b[39m, dict1=\u001b[38;5;28;01mNone\u001b[39;00m, overwrite=\u001b[38;5;28;01mFalse\u001b[39;00m, **kwargs):\n\u001b[32m   1392\u001b[39m \u001b[38;5;250m    \u001b[39m\u001b[33;03m\"\"\"\u001b[39;00m\n\u001b[32m   1393\u001b[39m \u001b[33;03m    Update the properties of the figure's layout with a dict and/or with\u001b[39;00m\n\u001b[32m   1394\u001b[39m \u001b[33;03m    keyword arguments.\u001b[39;00m\n\u001b[32m   (...)\u001b[39m\u001b[32m   1413\u001b[39m \u001b[33;03m        The Figure object that the update_layout method was called on\u001b[39;00m\n\u001b[32m   1414\u001b[39m \u001b[33;03m    \"\"\"\u001b[39;00m\n\u001b[32m-> \u001b[39m\u001b[32m1415\u001b[39m     \u001b[38;5;28;43mself\u001b[39;49m\u001b[43m.\u001b[49m\u001b[43mlayout\u001b[49m\u001b[43m.\u001b[49m\u001b[43mupdate\u001b[49m\u001b[43m(\u001b[49m\u001b[43mdict1\u001b[49m\u001b[43m,\u001b[49m\u001b[43m \u001b[49m\u001b[43moverwrite\u001b[49m\u001b[43m=\u001b[49m\u001b[43moverwrite\u001b[49m\u001b[43m,\u001b[49m\u001b[43m \u001b[49m\u001b[43m*\u001b[49m\u001b[43m*\u001b[49m\u001b[43mkwargs\u001b[49m\u001b[43m)\u001b[49m\n\u001b[32m   1416\u001b[39m     \u001b[38;5;28;01mreturn\u001b[39;00m \u001b[38;5;28mself\u001b[39m\n",
      "\u001b[36mFile \u001b[39m\u001b[32m~/Qube3/.venv/lib/python3.12/site-packages/plotly/basedatatypes.py:5195\u001b[39m, in \u001b[36mBasePlotlyType.update\u001b[39m\u001b[34m(self, dict1, overwrite, **kwargs)\u001b[39m\n\u001b[32m   5193\u001b[39m     \u001b[38;5;28;01mwith\u001b[39;00m \u001b[38;5;28mself\u001b[39m.figure.batch_update():\n\u001b[32m   5194\u001b[39m         BaseFigure._perform_update(\u001b[38;5;28mself\u001b[39m, dict1, overwrite=overwrite)\n\u001b[32m-> \u001b[39m\u001b[32m5195\u001b[39m         \u001b[43mBaseFigure\u001b[49m\u001b[43m.\u001b[49m\u001b[43m_perform_update\u001b[49m\u001b[43m(\u001b[49m\u001b[38;5;28;43mself\u001b[39;49m\u001b[43m,\u001b[49m\u001b[43m \u001b[49m\u001b[43mkwargs\u001b[49m\u001b[43m,\u001b[49m\u001b[43m \u001b[49m\u001b[43moverwrite\u001b[49m\u001b[43m=\u001b[49m\u001b[43moverwrite\u001b[49m\u001b[43m)\u001b[49m\n\u001b[32m   5196\u001b[39m \u001b[38;5;28;01melse\u001b[39;00m:\n\u001b[32m   5197\u001b[39m     BaseFigure._perform_update(\u001b[38;5;28mself\u001b[39m, dict1, overwrite=overwrite)\n",
      "\u001b[36mFile \u001b[39m\u001b[32m~/Qube3/.venv/lib/python3.12/site-packages/plotly/basedatatypes.py:3989\u001b[39m, in \u001b[36mBaseFigure._perform_update\u001b[39m\u001b[34m(plotly_obj, update_obj, overwrite)\u001b[39m\n\u001b[32m   3983\u001b[39m             plotly_obj[key] = plotly_obj[key] + \u001b[38;5;28mtuple\u001b[39m(\n\u001b[32m   3984\u001b[39m                 val[\u001b[38;5;28mlen\u001b[39m(plotly_obj[key]) :]\n\u001b[32m   3985\u001b[39m             )\n\u001b[32m   3986\u001b[39m     \u001b[38;5;28;01melse\u001b[39;00m:\n\u001b[32m   3987\u001b[39m         \u001b[38;5;66;03m# plotly_obj is an empty or uninitialized list for key\u001b[39;00m\n\u001b[32m   3988\u001b[39m         \u001b[38;5;66;03m# In this case we accept val as is\u001b[39;00m\n\u001b[32m-> \u001b[39m\u001b[32m3989\u001b[39m         \u001b[43mplotly_obj\u001b[49m\u001b[43m[\u001b[49m\u001b[43mkey\u001b[49m\u001b[43m]\u001b[49m = val\n\u001b[32m   3990\u001b[39m \u001b[38;5;28;01melse\u001b[39;00m:\n\u001b[32m   3991\u001b[39m     \u001b[38;5;66;03m# Assign non-compound value\u001b[39;00m\n\u001b[32m   3992\u001b[39m     plotly_obj[key] = val\n",
      "\u001b[36mFile \u001b[39m\u001b[32m~/Qube3/.venv/lib/python3.12/site-packages/plotly/basedatatypes.py:5967\u001b[39m, in \u001b[36mBaseLayoutType.__setitem__\u001b[39m\u001b[34m(self, prop, value)\u001b[39m\n\u001b[32m   5964\u001b[39m match = \u001b[38;5;28mself\u001b[39m._subplot_re_match(prop)\n\u001b[32m   5965\u001b[39m \u001b[38;5;28;01mif\u001b[39;00m match \u001b[38;5;129;01mis\u001b[39;00m \u001b[38;5;28;01mNone\u001b[39;00m:\n\u001b[32m   5966\u001b[39m     \u001b[38;5;66;03m# Set as ordinary property\u001b[39;00m\n\u001b[32m-> \u001b[39m\u001b[32m5967\u001b[39m     \u001b[38;5;28;43msuper\u001b[39;49m\u001b[43m(\u001b[49m\u001b[43mBaseLayoutHierarchyType\u001b[49m\u001b[43m,\u001b[49m\u001b[43m \u001b[49m\u001b[38;5;28;43mself\u001b[39;49m\u001b[43m)\u001b[49m\u001b[43m.\u001b[49m\u001b[34;43m__setitem__\u001b[39;49m\u001b[43m(\u001b[49m\u001b[43mprop\u001b[49m\u001b[43m,\u001b[49m\u001b[43m \u001b[49m\u001b[43mvalue\u001b[49m\u001b[43m)\u001b[49m\n\u001b[32m   5968\u001b[39m \u001b[38;5;28;01melse\u001b[39;00m:\n\u001b[32m   5969\u001b[39m     \u001b[38;5;66;03m# Set as subplotid property\u001b[39;00m\n\u001b[32m   5970\u001b[39m     \u001b[38;5;28mself\u001b[39m._set_subplotid_prop(prop, value)\n",
      "\u001b[36mFile \u001b[39m\u001b[32m~/Qube3/.venv/lib/python3.12/site-packages/plotly/basedatatypes.py:4928\u001b[39m, in \u001b[36mBasePlotlyType.__setitem__\u001b[39m\u001b[34m(self, prop, value)\u001b[39m\n\u001b[32m   4926\u001b[39m \u001b[38;5;66;03m# ### Handle compound array property ###\u001b[39;00m\n\u001b[32m   4927\u001b[39m \u001b[38;5;28;01melif\u001b[39;00m \u001b[38;5;28misinstance\u001b[39m(validator, (CompoundArrayValidator, BaseDataValidator)):\n\u001b[32m-> \u001b[39m\u001b[32m4928\u001b[39m     \u001b[38;5;28;43mself\u001b[39;49m\u001b[43m.\u001b[49m\u001b[43m_set_array_prop\u001b[49m\u001b[43m(\u001b[49m\u001b[43mprop\u001b[49m\u001b[43m,\u001b[49m\u001b[43m \u001b[49m\u001b[43mvalue\u001b[49m\u001b[43m)\u001b[49m\n\u001b[32m   4930\u001b[39m \u001b[38;5;66;03m# ### Handle simple property ###\u001b[39;00m\n\u001b[32m   4931\u001b[39m \u001b[38;5;28;01melse\u001b[39;00m:\n\u001b[32m   4932\u001b[39m     \u001b[38;5;28mself\u001b[39m._set_prop(prop, value)\n",
      "\u001b[36mFile \u001b[39m\u001b[32m~/Qube3/.venv/lib/python3.12/site-packages/plotly/basedatatypes.py:5409\u001b[39m, in \u001b[36mBasePlotlyType._set_array_prop\u001b[39m\u001b[34m(self, prop, val)\u001b[39m\n\u001b[32m   5406\u001b[39m \u001b[38;5;66;03m# Import value\u001b[39;00m\n\u001b[32m   5407\u001b[39m \u001b[38;5;66;03m# ------------\u001b[39;00m\n\u001b[32m   5408\u001b[39m validator = \u001b[38;5;28mself\u001b[39m._get_validator(prop)\n\u001b[32m-> \u001b[39m\u001b[32m5409\u001b[39m val = \u001b[43mvalidator\u001b[49m\u001b[43m.\u001b[49m\u001b[43mvalidate_coerce\u001b[49m\u001b[43m(\u001b[49m\u001b[43mval\u001b[49m\u001b[43m,\u001b[49m\u001b[43m \u001b[49m\u001b[43mskip_invalid\u001b[49m\u001b[43m=\u001b[49m\u001b[38;5;28;43mself\u001b[39;49m\u001b[43m.\u001b[49m\u001b[43m_skip_invalid\u001b[49m\u001b[43m)\u001b[49m\n\u001b[32m   5411\u001b[39m \u001b[38;5;66;03m# Save deep copies of current and new states\u001b[39;00m\n\u001b[32m   5412\u001b[39m \u001b[38;5;66;03m# ------------------------------------------\u001b[39;00m\n\u001b[32m   5413\u001b[39m curr_val = \u001b[38;5;28mself\u001b[39m._compound_array_props.get(prop, \u001b[38;5;28;01mNone\u001b[39;00m)\n",
      "\u001b[36mFile \u001b[39m\u001b[32m~/Qube3/.venv/lib/python3.12/site-packages/_plotly_utils/basevalidators.py:2511\u001b[39m, in \u001b[36mCompoundArrayValidator.validate_coerce\u001b[39m\u001b[34m(self, v, skip_invalid)\u001b[39m\n\u001b[32m   2509\u001b[39m     res.append(\u001b[38;5;28mself\u001b[39m.data_class(v_el))\n\u001b[32m   2510\u001b[39m \u001b[38;5;28;01melif\u001b[39;00m \u001b[38;5;28misinstance\u001b[39m(v_el, \u001b[38;5;28mdict\u001b[39m):\n\u001b[32m-> \u001b[39m\u001b[32m2511\u001b[39m     res.append(\u001b[38;5;28;43mself\u001b[39;49m\u001b[43m.\u001b[49m\u001b[43mdata_class\u001b[49m\u001b[43m(\u001b[49m\u001b[43mv_el\u001b[49m\u001b[43m,\u001b[49m\u001b[43m \u001b[49m\u001b[43mskip_invalid\u001b[49m\u001b[43m=\u001b[49m\u001b[43mskip_invalid\u001b[49m\u001b[43m)\u001b[49m)\n\u001b[32m   2512\u001b[39m \u001b[38;5;28;01melse\u001b[39;00m:\n\u001b[32m   2513\u001b[39m     \u001b[38;5;28;01mif\u001b[39;00m skip_invalid:\n",
      "\u001b[36mFile \u001b[39m\u001b[32m~/Qube3/.venv/lib/python3.12/site-packages/plotly/graph_objs/layout/_annotation.py:1716\u001b[39m, in \u001b[36mAnnotation.__init__\u001b[39m\u001b[34m(self, arg, align, arrowcolor, arrowhead, arrowside, arrowsize, arrowwidth, ax, axref, ay, ayref, bgcolor, bordercolor, borderpad, borderwidth, captureevents, clicktoshow, font, height, hoverlabel, hovertext, name, opacity, showarrow, standoff, startarrowhead, startarrowsize, startstandoff, templateitemname, text, textangle, valign, visible, width, x, xanchor, xclick, xref, xshift, y, yanchor, yclick, yref, yshift, **kwargs)\u001b[39m\n\u001b[32m   1714\u001b[39m \u001b[38;5;28mself\u001b[39m._set_property(\u001b[33m\"\u001b[39m\u001b[33myref\u001b[39m\u001b[33m\"\u001b[39m, arg, yref)\n\u001b[32m   1715\u001b[39m \u001b[38;5;28mself\u001b[39m._set_property(\u001b[33m\"\u001b[39m\u001b[33myshift\u001b[39m\u001b[33m\"\u001b[39m, arg, yshift)\n\u001b[32m-> \u001b[39m\u001b[32m1716\u001b[39m \u001b[38;5;28;43mself\u001b[39;49m\u001b[43m.\u001b[49m\u001b[43m_process_kwargs\u001b[49m\u001b[43m(\u001b[49m\u001b[43m*\u001b[49m\u001b[43m*\u001b[49m\u001b[38;5;28;43mdict\u001b[39;49m\u001b[43m(\u001b[49m\u001b[43marg\u001b[49m\u001b[43m,\u001b[49m\u001b[43m \u001b[49m\u001b[43m*\u001b[49m\u001b[43m*\u001b[49m\u001b[43mkwargs\u001b[49m\u001b[43m)\u001b[49m\u001b[43m)\u001b[49m\n\u001b[32m   1717\u001b[39m \u001b[38;5;28mself\u001b[39m._skip_invalid = \u001b[38;5;28;01mFalse\u001b[39;00m\n",
      "\u001b[36mFile \u001b[39m\u001b[32m~/Qube3/.venv/lib/python3.12/site-packages/plotly/basedatatypes.py:4451\u001b[39m, in \u001b[36mBasePlotlyType._process_kwargs\u001b[39m\u001b[34m(self, **kwargs)\u001b[39m\n\u001b[32m   4449\u001b[39m     \u001b[38;5;28mself\u001b[39m[k] = v\n\u001b[32m   4450\u001b[39m \u001b[38;5;28;01melif\u001b[39;00m \u001b[38;5;129;01mnot\u001b[39;00m \u001b[38;5;28mself\u001b[39m._skip_invalid:\n\u001b[32m-> \u001b[39m\u001b[32m4451\u001b[39m     \u001b[38;5;28;01mraise\u001b[39;00m err\n",
      "\u001b[31mValueError\u001b[39m: Invalid property specified for object of type plotly.graph_objs.layout.Annotation: 'z'\n\nDid you mean \"x\"?\n\n    Valid properties:\n        align\n            Sets the horizontal alignment of the `text` within the\n            box. Has an effect only if `text` spans two or more\n            lines (i.e. `text` contains one or more <br> HTML tags)\n            or if an explicit width is set to override the text\n            width.\n        arrowcolor\n            Sets the color of the annotation arrow.\n        arrowhead\n            Sets the end annotation arrow head style.\n        arrowside\n            Sets the annotation arrow head position.\n        arrowsize\n            Sets the size of the end annotation arrow head,\n            relative to `arrowwidth`. A value of 1 (default) gives\n            a head about 3x as wide as the line.\n        arrowwidth\n            Sets the width (in px) of annotation arrow line.\n        ax\n            Sets the x component of the arrow tail about the arrow\n            head. If `axref` is `pixel`, a positive (negative)\n            component corresponds to an arrow pointing from right\n            to left (left to right). If `axref` is not `pixel` and\n            is exactly the same as `xref`, this is an absolute\n            value on that axis, like `x`, specified in the same\n            coordinates as `xref`.\n        axref\n            Indicates in what coordinates the tail of the\n            annotation (ax,ay) is specified. If set to a x axis id\n            (e.g. \"x\" or \"x2\"), the `x` position refers to a x\n            coordinate. If set to \"paper\", the `x` position refers\n            to the distance from the left of the plotting area in\n            normalized coordinates where 0 (1) corresponds to the\n            left (right). If set to a x axis ID followed by\n            \"domain\" (separated by a space), the position behaves\n            like for \"paper\", but refers to the distance in\n            fractions of the domain length from the left of the\n            domain of that axis: e.g., *x2 domain* refers to the\n            domain of the second x  axis and a x position of 0.5\n            refers to the point between the left and the right of\n            the domain of the second x axis. In order for absolute\n            positioning of the arrow to work, \"axref\" must be\n            exactly the same as \"xref\", otherwise \"axref\" will\n            revert to \"pixel\" (explained next). For relative\n            positioning, \"axref\" can be set to \"pixel\", in which\n            case the \"ax\" value is specified in pixels relative to\n            \"x\". Absolute positioning is useful for trendline\n            annotations which should continue to indicate the\n            correct trend when zoomed. Relative positioning is\n            useful for specifying the text offset for an annotated\n            point.\n        ay\n            Sets the y component of the arrow tail about the arrow\n            head. If `ayref` is `pixel`, a positive (negative)\n            component corresponds to an arrow pointing from bottom\n            to top (top to bottom). If `ayref` is not `pixel` and\n            is exactly the same as `yref`, this is an absolute\n            value on that axis, like `y`, specified in the same\n            coordinates as `yref`.\n        ayref\n            Indicates in what coordinates the tail of the\n            annotation (ax,ay) is specified. If set to a y axis id\n            (e.g. \"y\" or \"y2\"), the `y` position refers to a y\n            coordinate. If set to \"paper\", the `y` position refers\n            to the distance from the bottom of the plotting area in\n            normalized coordinates where 0 (1) corresponds to the\n            bottom (top). If set to a y axis ID followed by\n            \"domain\" (separated by a space), the position behaves\n            like for \"paper\", but refers to the distance in\n            fractions of the domain length from the bottom of the\n            domain of that axis: e.g., *y2 domain* refers to the\n            domain of the second y  axis and a y position of 0.5\n            refers to the point between the bottom and the top of\n            the domain of the second y axis. In order for absolute\n            positioning of the arrow to work, \"ayref\" must be\n            exactly the same as \"yref\", otherwise \"ayref\" will\n            revert to \"pixel\" (explained next). For relative\n            positioning, \"ayref\" can be set to \"pixel\", in which\n            case the \"ay\" value is specified in pixels relative to\n            \"y\". Absolute positioning is useful for trendline\n            annotations which should continue to indicate the\n            correct trend when zoomed. Relative positioning is\n            useful for specifying the text offset for an annotated\n            point.\n        bgcolor\n            Sets the background color of the annotation.\n        bordercolor\n            Sets the color of the border enclosing the annotation\n            `text`.\n        borderpad\n            Sets the padding (in px) between the `text` and the\n            enclosing border.\n        borderwidth\n            Sets the width (in px) of the border enclosing the\n            annotation `text`.\n        captureevents\n            Determines whether the annotation text box captures\n            mouse move and click events, or allows those events to\n            pass through to data points in the plot that may be\n            behind the annotation. By default `captureevents` is\n            False unless `hovertext` is provided. If you use the\n            event `plotly_clickannotation` without `hovertext` you\n            must explicitly enable `captureevents`.\n        clicktoshow\n            Makes this annotation respond to clicks on the plot. If\n            you click a data point that exactly matches the `x` and\n            `y` values of this annotation, and it is hidden\n            (visible: false), it will appear. In \"onoff\" mode, you\n            must click the same point again to make it disappear,\n            so if you click multiple points, you can show multiple\n            annotations. In \"onout\" mode, a click anywhere else in\n            the plot (on another data point or not) will hide this\n            annotation. If you need to show/hide this annotation in\n            response to different `x` or `y` values, you can set\n            `xclick` and/or `yclick`. This is useful for example to\n            label the side of a bar. To label markers though,\n            `standoff` is preferred over `xclick` and `yclick`.\n        font\n            Sets the annotation text font.\n        height\n            Sets an explicit height for the text box. null\n            (default) lets the text set the box height. Taller text\n            will be clipped.\n        hoverlabel\n            :class:`plotly.graph_objects.layout.annotation.Hoverlab\n            el` instance or dict with compatible properties\n        hovertext\n            Sets text to appear when hovering over this annotation.\n            If omitted or blank, no hover label will appear.\n        name\n            When used in a template, named items are created in the\n            output figure in addition to any items the figure\n            already has in this array. You can modify these items\n            in the output figure by making your own item with\n            `templateitemname` matching this `name` alongside your\n            modifications (including `visible: false` or `enabled:\n            false` to hide it). Has no effect outside of a\n            template.\n        opacity\n            Sets the opacity of the annotation (text + arrow).\n        showarrow\n            Determines whether or not the annotation is drawn with\n            an arrow. If True, `text` is placed near the arrow's\n            tail. If False, `text` lines up with the `x` and `y`\n            provided.\n        standoff\n            Sets a distance, in pixels, to move the end arrowhead\n            away from the position it is pointing at, for example\n            to point at the edge of a marker independent of zoom.\n            Note that this shortens the arrow from the `ax` / `ay`\n            vector, in contrast to `xshift` / `yshift` which moves\n            everything by this amount.\n        startarrowhead\n            Sets the start annotation arrow head style.\n        startarrowsize\n            Sets the size of the start annotation arrow head,\n            relative to `arrowwidth`. A value of 1 (default) gives\n            a head about 3x as wide as the line.\n        startstandoff\n            Sets a distance, in pixels, to move the start arrowhead\n            away from the position it is pointing at, for example\n            to point at the edge of a marker independent of zoom.\n            Note that this shortens the arrow from the `ax` / `ay`\n            vector, in contrast to `xshift` / `yshift` which moves\n            everything by this amount.\n        templateitemname\n            Used to refer to a named item in this array in the\n            template. Named items from the template will be created\n            even without a matching item in the input figure, but\n            you can modify one by making an item with\n            `templateitemname` matching its `name`, alongside your\n            modifications (including `visible: false` or `enabled:\n            false` to hide it). If there is no template or no\n            matching item, this item will be hidden unless you\n            explicitly show it with `visible: true`.\n        text\n            Sets the text associated with this annotation. Plotly\n            uses a subset of HTML tags to do things like newline\n            (`<br>`), bold (`<b></b>`), italics (`<i></i>`),\n            hyperlinks (`<a href='...'></a>`). Tags `<em>`,\n            `<sup>`, `<sub>`, `<s>`, `<u>`, and `<span>` are also\n            supported.\n        textangle\n            Sets the angle at which the `text` is drawn with\n            respect to the horizontal.\n        valign\n            Sets the vertical alignment of the `text` within the\n            box. Has an effect only if an explicit height is set to\n            override the text height.\n        visible\n            Determines whether or not this annotation is visible.\n        width\n            Sets an explicit width for the text box. null (default)\n            lets the text set the box width. Wider text will be\n            clipped. There is no automatic wrapping; use <br> to\n            start a new line.\n        x\n            Sets the annotation's x position. If the axis `type` is\n            \"log\", then you must take the log of your desired\n            range. If the axis `type` is \"date\", it should be date\n            strings, like date data, though Date objects and unix\n            milliseconds will be accepted and converted to strings.\n            If the axis `type` is \"category\", it should be numbers,\n            using the scale where each category is assigned a\n            serial number from zero in the order it appears.\n        xanchor\n            Sets the text box's horizontal position anchor This\n            anchor binds the `x` position to the \"left\", \"center\"\n            or \"right\" of the annotation. For example, if `x` is\n            set to 1, `xref` to \"paper\" and `xanchor` to \"right\"\n            then the right-most portion of the annotation lines up\n            with the right-most edge of the plotting area. If\n            \"auto\", the anchor is equivalent to \"center\" for data-\n            referenced annotations or if there is an arrow, whereas\n            for paper-referenced with no arrow, the anchor picked\n            corresponds to the closest side.\n        xclick\n            Toggle this annotation when clicking a data point whose\n            `x` value is `xclick` rather than the annotation's `x`\n            value.\n        xref\n            Sets the annotation's x coordinate axis. If set to a x\n            axis id (e.g. \"x\" or \"x2\"), the `x` position refers to\n            a x coordinate. If set to \"paper\", the `x` position\n            refers to the distance from the left of the plotting\n            area in normalized coordinates where 0 (1) corresponds\n            to the left (right). If set to a x axis ID followed by\n            \"domain\" (separated by a space), the position behaves\n            like for \"paper\", but refers to the distance in\n            fractions of the domain length from the left of the\n            domain of that axis: e.g., *x2 domain* refers to the\n            domain of the second x  axis and a x position of 0.5\n            refers to the point between the left and the right of\n            the domain of the second x axis.\n        xshift\n            Shifts the position of the whole annotation and arrow\n            to the right (positive) or left (negative) by this many\n            pixels.\n        y\n            Sets the annotation's y position. If the axis `type` is\n            \"log\", then you must take the log of your desired\n            range. If the axis `type` is \"date\", it should be date\n            strings, like date data, though Date objects and unix\n            milliseconds will be accepted and converted to strings.\n            If the axis `type` is \"category\", it should be numbers,\n            using the scale where each category is assigned a\n            serial number from zero in the order it appears.\n        yanchor\n            Sets the text box's vertical position anchor This\n            anchor binds the `y` position to the \"top\", \"middle\" or\n            \"bottom\" of the annotation. For example, if `y` is set\n            to 1, `yref` to \"paper\" and `yanchor` to \"top\" then the\n            top-most portion of the annotation lines up with the\n            top-most edge of the plotting area. If \"auto\", the\n            anchor is equivalent to \"middle\" for data-referenced\n            annotations or if there is an arrow, whereas for paper-\n            referenced with no arrow, the anchor picked corresponds\n            to the closest side.\n        yclick\n            Toggle this annotation when clicking a data point whose\n            `y` value is `yclick` rather than the annotation's `y`\n            value.\n        yref\n            Sets the annotation's y coordinate axis. If set to a y\n            axis id (e.g. \"y\" or \"y2\"), the `y` position refers to\n            a y coordinate. If set to \"paper\", the `y` position\n            refers to the distance from the bottom of the plotting\n            area in normalized coordinates where 0 (1) corresponds\n            to the bottom (top). If set to a y axis ID followed by\n            \"domain\" (separated by a space), the position behaves\n            like for \"paper\", but refers to the distance in\n            fractions of the domain length from the bottom of the\n            domain of that axis: e.g., *y2 domain* refers to the\n            domain of the second y  axis and a y position of 0.5\n            refers to the point between the bottom and the top of\n            the domain of the second y axis.\n        yshift\n            Shifts the position of the whole annotation and arrow\n            up (positive) or down (negative) by this many pixels.\n        \nDid you mean \"x\"?\n\nBad property path:\nz\n^"
     ]
    }
   ],
   "source": [
    "import numpy as np\n",
    "import plotly.graph_objects as go\n",
    "\n",
    "# Define your reduced matrix (3x3 example)\n",
    "A = np.array([\n",
    "    [1, 0, 2],\n",
    "    [0, 1, -3],\n",
    "    [0, 0, 0]\n",
    "])\n",
    "\n",
    "# Extract column vectors\n",
    "v1 = A[:, 0]\n",
    "v2 = A[:, 1]\n",
    "v3 = A[:, 2]\n",
    "\n",
    "# Create a mesh grid for the plane spanned by v1 and v2\n",
    "s = np.linspace(-2, 2, 10)\n",
    "t = np.linspace(-2, 2, 10)\n",
    "S, T = np.meshgrid(s, t)\n",
    "\n",
    "# Plane equation: any linear combination of v1 and v2\n",
    "X = S * v1[0] + T * v2[0]\n",
    "Y = S * v1[1] + T * v2[1]\n",
    "Z = S * v1[2] + T * v2[2]\n",
    "\n",
    "# Create 3D plot\n",
    "fig = go.Figure()\n",
    "\n",
    "# Add the plane\n",
    "fig.add_trace(go.Surface(\n",
    "    x=X, y=Y, z=Z,\n",
    "    opacity=0.5,\n",
    "    colorscale='Viridis',\n",
    "    showscale=False,\n",
    "    name='Span(v1, v2)'\n",
    "))\n",
    "\n",
    "# Add v1 (red)\n",
    "fig.add_trace(go.Scatter3d(\n",
    "    x=[0, v1[0]], y=[0, v1[1]], z=[0, v1[2]],\n",
    "    mode='lines+markers',\n",
    "    line=dict(color='red', width=5),\n",
    "    marker=dict(size=5),\n",
    "    name='v1'\n",
    "))\n",
    "\n",
    "# Add v2 (blue)\n",
    "fig.add_trace(go.Scatter3d(\n",
    "    x=[0, v2[0]], y=[0, v2[1]], z=[0, v2[2]],\n",
    "    mode='lines+markers',\n",
    "    line=dict(color='blue', width=5),\n",
    "    marker=dict(size=5),\n",
    "    name='v2'\n",
    "))\n",
    "\n",
    "# Add v3 (green)\n",
    "fig.add_trace(go.Scatter3d(\n",
    "    x=[0, v3[0]], y=[0, v3[1]], z=[0, v3[2]],\n",
    "    mode='lines+markers',\n",
    "    line=dict(color='green', width=5, dash='dot'),\n",
    "    marker=dict(size=6),\n",
    "    name='v3 (dependent)'\n",
    "))\n",
    "\n",
    "# Annotate each vector endpoint\n",
    "annotations = [\n",
    "    dict(x=v1[0], y=v1[1], z=v1[2], text=\"v1\", showarrow=True, arrowhead=2, ax=20, ay=-30),\n",
    "    dict(x=v2[0], y=v2[1], z=v2[2], text=\"v2\", showarrow=True, arrowhead=2, ax=20, ay=-30),\n",
    "    dict(x=v3[0], y=v3[1], z=v3[2], text=\"v3\", showarrow=True, arrowhead=2, ax=20, ay=-30)\n",
    "]\n",
    "\n",
    "# Update layout\n",
    "fig.update_layout(\n",
    "    title=\"Plane Spanned by v₁ and v₂ (v₃ Lies in Same Plane)\",\n",
    "    scene=dict(\n",
    "        xaxis_title='X',\n",
    "        yaxis_title='Y',\n",
    "        zaxis_title='Z',\n",
    "        aspectmode='cube'\n",
    "    ),\n",
    "    width=850,\n",
    "    height=750,\n",
    "    annotations=annotations\n",
    ")\n",
    "\n",
    "fig.show()\n"
   ]
  },
  {
   "cell_type": "code",
   "execution_count": 2,
   "id": "b8ec4ecc-9051-47df-b601-e8459a2d4831",
   "metadata": {},
   "outputs": [
    {
     "data": {
      "application/vnd.plotly.v1+json": {
       "config": {
        "plotlyServerURL": "https://plot.ly"
       },
       "data": [
        {
         "line": {
          "color": "red",
          "width": 6
         },
         "marker": {
          "size": 4
         },
         "mode": "lines+markers",
         "name": "v1",
         "type": "scatter3d",
         "x": [
          0,
          1
         ],
         "y": [
          0,
          2
         ],
         "z": [
          0,
          3
         ]
        },
        {
         "line": {
          "color": "green",
          "width": 6
         },
         "marker": {
          "size": 4
         },
         "mode": "lines+markers",
         "name": "v2",
         "type": "scatter3d",
         "x": [
          0,
          2
         ],
         "y": [
          0,
          1
         ],
         "z": [
          0,
          0
         ]
        },
        {
         "line": {
          "color": "blue",
          "width": 6
         },
         "marker": {
          "size": 4
         },
         "mode": "lines+markers",
         "name": "v3",
         "type": "scatter3d",
         "x": [
          0,
          0
         ],
         "y": [
          0,
          1
         ],
         "z": [
          0,
          2
         ]
        },
        {
         "mode": "text",
         "text": [
          "v1",
          "v2",
          "v3"
         ],
         "textposition": "top center",
         "type": "scatter3d",
         "x": [
          1,
          2,
          0
         ],
         "y": [
          2,
          1,
          1
         ],
         "z": [
          3,
          0,
          2
         ]
        }
       ],
       "layout": {
        "height": 700,
        "scene": {
         "aspectmode": "data",
         "xaxis": {
          "range": [
           -1,
           3
          ],
          "title": {
           "text": "X"
          }
         },
         "yaxis": {
          "range": [
           -1,
           3
          ],
          "title": {
           "text": "Y"
          }
         },
         "zaxis": {
          "range": [
           -1,
           4
          ],
          "title": {
           "text": "Z"
          }
         }
        },
        "template": {
         "data": {
          "bar": [
           {
            "error_x": {
             "color": "#2a3f5f"
            },
            "error_y": {
             "color": "#2a3f5f"
            },
            "marker": {
             "line": {
              "color": "#E5ECF6",
              "width": 0.5
             },
             "pattern": {
              "fillmode": "overlay",
              "size": 10,
              "solidity": 0.2
             }
            },
            "type": "bar"
           }
          ],
          "barpolar": [
           {
            "marker": {
             "line": {
              "color": "#E5ECF6",
              "width": 0.5
             },
             "pattern": {
              "fillmode": "overlay",
              "size": 10,
              "solidity": 0.2
             }
            },
            "type": "barpolar"
           }
          ],
          "carpet": [
           {
            "aaxis": {
             "endlinecolor": "#2a3f5f",
             "gridcolor": "white",
             "linecolor": "white",
             "minorgridcolor": "white",
             "startlinecolor": "#2a3f5f"
            },
            "baxis": {
             "endlinecolor": "#2a3f5f",
             "gridcolor": "white",
             "linecolor": "white",
             "minorgridcolor": "white",
             "startlinecolor": "#2a3f5f"
            },
            "type": "carpet"
           }
          ],
          "choropleth": [
           {
            "colorbar": {
             "outlinewidth": 0,
             "ticks": ""
            },
            "type": "choropleth"
           }
          ],
          "contour": [
           {
            "colorbar": {
             "outlinewidth": 0,
             "ticks": ""
            },
            "colorscale": [
             [
              0,
              "#0d0887"
             ],
             [
              0.1111111111111111,
              "#46039f"
             ],
             [
              0.2222222222222222,
              "#7201a8"
             ],
             [
              0.3333333333333333,
              "#9c179e"
             ],
             [
              0.4444444444444444,
              "#bd3786"
             ],
             [
              0.5555555555555556,
              "#d8576b"
             ],
             [
              0.6666666666666666,
              "#ed7953"
             ],
             [
              0.7777777777777778,
              "#fb9f3a"
             ],
             [
              0.8888888888888888,
              "#fdca26"
             ],
             [
              1,
              "#f0f921"
             ]
            ],
            "type": "contour"
           }
          ],
          "contourcarpet": [
           {
            "colorbar": {
             "outlinewidth": 0,
             "ticks": ""
            },
            "type": "contourcarpet"
           }
          ],
          "heatmap": [
           {
            "colorbar": {
             "outlinewidth": 0,
             "ticks": ""
            },
            "colorscale": [
             [
              0,
              "#0d0887"
             ],
             [
              0.1111111111111111,
              "#46039f"
             ],
             [
              0.2222222222222222,
              "#7201a8"
             ],
             [
              0.3333333333333333,
              "#9c179e"
             ],
             [
              0.4444444444444444,
              "#bd3786"
             ],
             [
              0.5555555555555556,
              "#d8576b"
             ],
             [
              0.6666666666666666,
              "#ed7953"
             ],
             [
              0.7777777777777778,
              "#fb9f3a"
             ],
             [
              0.8888888888888888,
              "#fdca26"
             ],
             [
              1,
              "#f0f921"
             ]
            ],
            "type": "heatmap"
           }
          ],
          "histogram": [
           {
            "marker": {
             "pattern": {
              "fillmode": "overlay",
              "size": 10,
              "solidity": 0.2
             }
            },
            "type": "histogram"
           }
          ],
          "histogram2d": [
           {
            "colorbar": {
             "outlinewidth": 0,
             "ticks": ""
            },
            "colorscale": [
             [
              0,
              "#0d0887"
             ],
             [
              0.1111111111111111,
              "#46039f"
             ],
             [
              0.2222222222222222,
              "#7201a8"
             ],
             [
              0.3333333333333333,
              "#9c179e"
             ],
             [
              0.4444444444444444,
              "#bd3786"
             ],
             [
              0.5555555555555556,
              "#d8576b"
             ],
             [
              0.6666666666666666,
              "#ed7953"
             ],
             [
              0.7777777777777778,
              "#fb9f3a"
             ],
             [
              0.8888888888888888,
              "#fdca26"
             ],
             [
              1,
              "#f0f921"
             ]
            ],
            "type": "histogram2d"
           }
          ],
          "histogram2dcontour": [
           {
            "colorbar": {
             "outlinewidth": 0,
             "ticks": ""
            },
            "colorscale": [
             [
              0,
              "#0d0887"
             ],
             [
              0.1111111111111111,
              "#46039f"
             ],
             [
              0.2222222222222222,
              "#7201a8"
             ],
             [
              0.3333333333333333,
              "#9c179e"
             ],
             [
              0.4444444444444444,
              "#bd3786"
             ],
             [
              0.5555555555555556,
              "#d8576b"
             ],
             [
              0.6666666666666666,
              "#ed7953"
             ],
             [
              0.7777777777777778,
              "#fb9f3a"
             ],
             [
              0.8888888888888888,
              "#fdca26"
             ],
             [
              1,
              "#f0f921"
             ]
            ],
            "type": "histogram2dcontour"
           }
          ],
          "mesh3d": [
           {
            "colorbar": {
             "outlinewidth": 0,
             "ticks": ""
            },
            "type": "mesh3d"
           }
          ],
          "parcoords": [
           {
            "line": {
             "colorbar": {
              "outlinewidth": 0,
              "ticks": ""
             }
            },
            "type": "parcoords"
           }
          ],
          "pie": [
           {
            "automargin": true,
            "type": "pie"
           }
          ],
          "scatter": [
           {
            "fillpattern": {
             "fillmode": "overlay",
             "size": 10,
             "solidity": 0.2
            },
            "type": "scatter"
           }
          ],
          "scatter3d": [
           {
            "line": {
             "colorbar": {
              "outlinewidth": 0,
              "ticks": ""
             }
            },
            "marker": {
             "colorbar": {
              "outlinewidth": 0,
              "ticks": ""
             }
            },
            "type": "scatter3d"
           }
          ],
          "scattercarpet": [
           {
            "marker": {
             "colorbar": {
              "outlinewidth": 0,
              "ticks": ""
             }
            },
            "type": "scattercarpet"
           }
          ],
          "scattergeo": [
           {
            "marker": {
             "colorbar": {
              "outlinewidth": 0,
              "ticks": ""
             }
            },
            "type": "scattergeo"
           }
          ],
          "scattergl": [
           {
            "marker": {
             "colorbar": {
              "outlinewidth": 0,
              "ticks": ""
             }
            },
            "type": "scattergl"
           }
          ],
          "scattermap": [
           {
            "marker": {
             "colorbar": {
              "outlinewidth": 0,
              "ticks": ""
             }
            },
            "type": "scattermap"
           }
          ],
          "scattermapbox": [
           {
            "marker": {
             "colorbar": {
              "outlinewidth": 0,
              "ticks": ""
             }
            },
            "type": "scattermapbox"
           }
          ],
          "scatterpolar": [
           {
            "marker": {
             "colorbar": {
              "outlinewidth": 0,
              "ticks": ""
             }
            },
            "type": "scatterpolar"
           }
          ],
          "scatterpolargl": [
           {
            "marker": {
             "colorbar": {
              "outlinewidth": 0,
              "ticks": ""
             }
            },
            "type": "scatterpolargl"
           }
          ],
          "scatterternary": [
           {
            "marker": {
             "colorbar": {
              "outlinewidth": 0,
              "ticks": ""
             }
            },
            "type": "scatterternary"
           }
          ],
          "surface": [
           {
            "colorbar": {
             "outlinewidth": 0,
             "ticks": ""
            },
            "colorscale": [
             [
              0,
              "#0d0887"
             ],
             [
              0.1111111111111111,
              "#46039f"
             ],
             [
              0.2222222222222222,
              "#7201a8"
             ],
             [
              0.3333333333333333,
              "#9c179e"
             ],
             [
              0.4444444444444444,
              "#bd3786"
             ],
             [
              0.5555555555555556,
              "#d8576b"
             ],
             [
              0.6666666666666666,
              "#ed7953"
             ],
             [
              0.7777777777777778,
              "#fb9f3a"
             ],
             [
              0.8888888888888888,
              "#fdca26"
             ],
             [
              1,
              "#f0f921"
             ]
            ],
            "type": "surface"
           }
          ],
          "table": [
           {
            "cells": {
             "fill": {
              "color": "#EBF0F8"
             },
             "line": {
              "color": "white"
             }
            },
            "header": {
             "fill": {
              "color": "#C8D4E3"
             },
             "line": {
              "color": "white"
             }
            },
            "type": "table"
           }
          ]
         },
         "layout": {
          "annotationdefaults": {
           "arrowcolor": "#2a3f5f",
           "arrowhead": 0,
           "arrowwidth": 1
          },
          "autotypenumbers": "strict",
          "coloraxis": {
           "colorbar": {
            "outlinewidth": 0,
            "ticks": ""
           }
          },
          "colorscale": {
           "diverging": [
            [
             0,
             "#8e0152"
            ],
            [
             0.1,
             "#c51b7d"
            ],
            [
             0.2,
             "#de77ae"
            ],
            [
             0.3,
             "#f1b6da"
            ],
            [
             0.4,
             "#fde0ef"
            ],
            [
             0.5,
             "#f7f7f7"
            ],
            [
             0.6,
             "#e6f5d0"
            ],
            [
             0.7,
             "#b8e186"
            ],
            [
             0.8,
             "#7fbc41"
            ],
            [
             0.9,
             "#4d9221"
            ],
            [
             1,
             "#276419"
            ]
           ],
           "sequential": [
            [
             0,
             "#0d0887"
            ],
            [
             0.1111111111111111,
             "#46039f"
            ],
            [
             0.2222222222222222,
             "#7201a8"
            ],
            [
             0.3333333333333333,
             "#9c179e"
            ],
            [
             0.4444444444444444,
             "#bd3786"
            ],
            [
             0.5555555555555556,
             "#d8576b"
            ],
            [
             0.6666666666666666,
             "#ed7953"
            ],
            [
             0.7777777777777778,
             "#fb9f3a"
            ],
            [
             0.8888888888888888,
             "#fdca26"
            ],
            [
             1,
             "#f0f921"
            ]
           ],
           "sequentialminus": [
            [
             0,
             "#0d0887"
            ],
            [
             0.1111111111111111,
             "#46039f"
            ],
            [
             0.2222222222222222,
             "#7201a8"
            ],
            [
             0.3333333333333333,
             "#9c179e"
            ],
            [
             0.4444444444444444,
             "#bd3786"
            ],
            [
             0.5555555555555556,
             "#d8576b"
            ],
            [
             0.6666666666666666,
             "#ed7953"
            ],
            [
             0.7777777777777778,
             "#fb9f3a"
            ],
            [
             0.8888888888888888,
             "#fdca26"
            ],
            [
             1,
             "#f0f921"
            ]
           ]
          },
          "colorway": [
           "#636efa",
           "#EF553B",
           "#00cc96",
           "#ab63fa",
           "#FFA15A",
           "#19d3f3",
           "#FF6692",
           "#B6E880",
           "#FF97FF",
           "#FECB52"
          ],
          "font": {
           "color": "#2a3f5f"
          },
          "geo": {
           "bgcolor": "white",
           "lakecolor": "white",
           "landcolor": "#E5ECF6",
           "showlakes": true,
           "showland": true,
           "subunitcolor": "white"
          },
          "hoverlabel": {
           "align": "left"
          },
          "hovermode": "closest",
          "mapbox": {
           "style": "light"
          },
          "paper_bgcolor": "white",
          "plot_bgcolor": "#E5ECF6",
          "polar": {
           "angularaxis": {
            "gridcolor": "white",
            "linecolor": "white",
            "ticks": ""
           },
           "bgcolor": "#E5ECF6",
           "radialaxis": {
            "gridcolor": "white",
            "linecolor": "white",
            "ticks": ""
           }
          },
          "scene": {
           "xaxis": {
            "backgroundcolor": "#E5ECF6",
            "gridcolor": "white",
            "gridwidth": 2,
            "linecolor": "white",
            "showbackground": true,
            "ticks": "",
            "zerolinecolor": "white"
           },
           "yaxis": {
            "backgroundcolor": "#E5ECF6",
            "gridcolor": "white",
            "gridwidth": 2,
            "linecolor": "white",
            "showbackground": true,
            "ticks": "",
            "zerolinecolor": "white"
           },
           "zaxis": {
            "backgroundcolor": "#E5ECF6",
            "gridcolor": "white",
            "gridwidth": 2,
            "linecolor": "white",
            "showbackground": true,
            "ticks": "",
            "zerolinecolor": "white"
           }
          },
          "shapedefaults": {
           "line": {
            "color": "#2a3f5f"
           }
          },
          "ternary": {
           "aaxis": {
            "gridcolor": "white",
            "linecolor": "white",
            "ticks": ""
           },
           "baxis": {
            "gridcolor": "white",
            "linecolor": "white",
            "ticks": ""
           },
           "bgcolor": "#E5ECF6",
           "caxis": {
            "gridcolor": "white",
            "linecolor": "white",
            "ticks": ""
           }
          },
          "title": {
           "x": 0.05
          },
          "xaxis": {
           "automargin": true,
           "gridcolor": "white",
           "linecolor": "white",
           "ticks": "",
           "title": {
            "standoff": 15
           },
           "zerolinecolor": "white",
           "zerolinewidth": 2
          },
          "yaxis": {
           "automargin": true,
           "gridcolor": "white",
           "linecolor": "white",
           "ticks": "",
           "title": {
            "standoff": 15
           },
           "zerolinecolor": "white",
           "zerolinewidth": 2
          }
         }
        },
        "title": {
         "text": "3D Vectors with Labels"
        },
        "width": 700
       }
      },
      "image/png": "[encoded data removed]"
     },
     "metadata": {},
     "output_type": "display_data"
    }
   ],
   "source": [
    "import plotly.graph_objects as go\n",
    "import numpy as np\n",
    "\n",
    "# Define vectors\n",
    "v1 = np.array([1, 2, 3])\n",
    "v2 = np.array([2, 1, 0])\n",
    "v3 = np.array([0, 1, 2])\n",
    "\n",
    "# Origin\n",
    "origin = np.array([0, 0, 0])\n",
    "\n",
    "# Create 3D figure\n",
    "fig = go.Figure()\n",
    "\n",
    "# Add vectors as lines from origin\n",
    "for vec, name, color in zip([v1, v2, v3], ['v1', 'v2', 'v3'], ['red', 'green', 'blue']):\n",
    "    fig.add_trace(go.Scatter3d(\n",
    "        x=[origin[0], vec[0]],\n",
    "        y=[origin[1], vec[1]],\n",
    "        z=[origin[2], vec[2]],\n",
    "        mode='lines+markers',\n",
    "        marker=dict(size=4),\n",
    "        line=dict(width=6, color=color),\n",
    "        name=name\n",
    "    ))\n",
    "\n",
    "# Add text labels at the tip of each vector\n",
    "fig.add_trace(go.Scatter3d(\n",
    "    x=[v1[0], v2[0], v3[0]],\n",
    "    y=[v1[1], v2[1], v3[1]],\n",
    "    z=[v1[2], v2[2], v3[2]],\n",
    "    mode='text',\n",
    "    text=['v1', 'v2', 'v3'],\n",
    "    textposition='top center'\n",
    "))\n",
    "\n",
    "# Set axes properties\n",
    "fig.update_layout(\n",
    "    scene=dict(\n",
    "        xaxis=dict(title='X', range=[-1, max(v1[0], v2[0], v3[0])+1]),\n",
    "        yaxis=dict(title='Y', range=[-1, max(v1[1], v2[1], v3[1])+1]),\n",
    "        zaxis=dict(title='Z', range=[-1, max(v1[2], v2[2], v3[2])+1]),\n",
    "        aspectmode='data'\n",
    "    ),\n",
    "    width=700,\n",
    "    height=700,\n",
    "    title=\"3D Vectors with Labels\"\n",
    ")\n",
    "\n",
    "fig.show()\n"
   ]
  },
  {
   "cell_type": "code",
   "execution_count": null,
   "id": "f678801d-930a-4098-8163-8740de264927",
   "metadata": {},
   "outputs": [],
   "source": []
  }
 ],
 "metadata": {
  "kernelspec": {
   "display_name": "Python 3 (ipykernel)",
   "language": "python",
   "name": "python3"
  },
  "language_info": {
   "codemirror_mode": {
    "name": "ipython",
    "version": 3
   },
   "file_extension": ".py",
   "mimetype": "text/x-python",
   "name": "python",
   "nbconvert_exporter": "python",
   "pygments_lexer": "ipython3",
   "version": "3.12.3"
  }
 },
 "nbformat": 4,
 "nbformat_minor": 5
}
